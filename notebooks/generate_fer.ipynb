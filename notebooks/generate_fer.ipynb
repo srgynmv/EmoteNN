{
 "cells": [
  {
   "cell_type": "code",
   "execution_count": null,
   "metadata": {},
   "outputs": [],
   "source": [
    "import os\n",
    "import numpy as np\n",
    "import pandas as pd\n",
    "from emotenn import constants, gen_utils as gu, load_utils as lu"
   ]
  },
  {
   "cell_type": "code",
   "execution_count": null,
   "metadata": {},
   "outputs": [],
   "source": [
    "lu.download_file_from_google_drive(constants.FER_ARCHIVE, exist_ok=True)\n",
    "gu.unpack(constants.FER_ARCHIVE.path)"
   ]
  },
  {
   "cell_type": "code",
   "execution_count": null,
   "metadata": {},
   "outputs": [],
   "source": [
    "FER_CSV_PATH = os.path.join(constants.UNPACKED_DIR, 'fer2013', 'fer2013.csv')\n",
    "FER_WIDTH = 48\n",
    "FER_HEIGHT = 48\n",
    "\n",
    "data = pd.read_csv(FER_CSV_PATH)\n",
    "pixels = data['pixels'].tolist()\n",
    "\n",
    "X = []\n",
    "for image in pixels:\n",
    "    image = [int(pixel) for pixel in image.split(' ')]\n",
    "    image = np.asarray(image).reshape(FER_WIDTH, FER_HEIGHT)\n",
    "    X.append(image.astype('float32'))\n",
    "\n",
    "X = np.asarray(X)\n",
    "X = np.expand_dims(X, -1)\n",
    "\n",
    "Y = pd.get_dummies(data['emotion']).to_numpy().astype('float32')\n",
    "\n",
    "print(f'Loaded {len(X)} images')\n",
    "print(f'Image shape: {X[0].shape}')"
   ]
  },
  {
   "cell_type": "code",
   "execution_count": null,
   "metadata": {},
   "outputs": [],
   "source": [
    "X = gu.preprocess_input(X)\n",
    "gu.save(X, Y, 'data')"
   ]
  }
 ],
 "metadata": {
  "kernelspec": {
   "display_name": "Python 3.6.2 64-bit",
   "language": "python",
   "name": "python36264bitf51c28bbb063445699384dad44d5e1d2"
  },
  "language_info": {
   "codemirror_mode": {
    "name": "ipython",
    "version": 3
   },
   "file_extension": ".py",
   "mimetype": "text/x-python",
   "name": "python",
   "nbconvert_exporter": "python",
   "pygments_lexer": "ipython3",
   "version": "3.6.2"
  }
 },
 "nbformat": 4,
 "nbformat_minor": 4
}
