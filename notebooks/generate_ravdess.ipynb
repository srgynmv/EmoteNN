{
  "nbformat": 4,
  "nbformat_minor": 0,
  "metadata": {
    "kernelspec": {
      "name": "python3",
      "display_name": "Python 3"
    },
    "language_info": {
      "codemirror_mode": {
        "name": "ipython",
        "version": 3
      },
      "file_extension": ".py",
      "mimetype": "text/x-python",
      "name": "python",
      "nbconvert_exporter": "python",
      "pygments_lexer": "ipython3",
      "version": "3.6.2"
    },
    "colab": {
      "name": "generate_ravdess.ipynb",
      "provenance": []
    },
    "accelerator": "GPU"
  },
  "cells": [
    {
      "cell_type": "markdown",
      "metadata": {
        "id": "6gdQaLYSPAQy",
        "colab_type": "text"
      },
      "source": [
        "## Importing the required libraries"
      ]
    },
    {
      "cell_type": "code",
      "metadata": {
        "id": "i1i-Gib-PXtk",
        "colab_type": "code",
        "colab": {}
      },
      "source": [
        "!git clone -l -s -b sound-dataset git://github.com/srgynmv/EmoteNN.git emotenn\n",
        "%cd emotenn"
      ],
      "execution_count": 0,
      "outputs": []
    },
    {
      "cell_type": "code",
      "metadata": {
        "id": "2l3502Y-PAQz",
        "colab_type": "code",
        "colab": {}
      },
      "source": [
        "import os\n",
        "import glob\n",
        "import librosa\n",
        "import librosa.display\n",
        "import numpy as np\n",
        "import pandas as pd\n",
        "import tensorflow as tf\n",
        "import matplotlib.pyplot as plt\n",
        "from matplotlib.pyplot import specgram"
      ],
      "execution_count": 0,
      "outputs": []
    },
    {
      "cell_type": "code",
      "metadata": {
        "id": "PYkyaBTSPAQ4",
        "colab_type": "code",
        "colab": {}
      },
      "source": [
        "import tensorflow.keras\n",
        "from tensorflow.keras import regularizers\n",
        "from tensorflow.keras.preprocessing import sequence\n",
        "from tensorflow.keras.models import Sequential\n",
        "from tensorflow.keras.layers import Dense, Embedding\n",
        "from tensorflow.keras.layers import LSTM\n",
        "from tensorflow.keras.preprocessing.text import Tokenizer\n",
        "from tensorflow.keras.preprocessing.sequence import pad_sequences\n",
        "from tensorflow.keras.utils import to_categorical\n",
        "from tensorflow.keras.layers import Input, Flatten, Dropout, Activation\n",
        "from tensorflow.keras.layers import Conv1D, MaxPooling1D, AveragePooling1D\n",
        "from tensorflow.keras.models import Model\n",
        "from tensorflow.keras.callbacks import ModelCheckpoint\n",
        "from sklearn.metrics import confusion_matrix"
      ],
      "execution_count": 0,
      "outputs": []
    },
    {
      "cell_type": "code",
      "metadata": {
        "id": "34gNMxZMPAQ8",
        "colab_type": "code",
        "colab": {}
      },
      "source": [
        "from emotenn import constants as ct, gen_utils as gu, train_utils as tu, load_utils as lu"
      ],
      "execution_count": 0,
      "outputs": []
    },
    {
      "cell_type": "markdown",
      "metadata": {
        "id": "7O-Y0W2mPARA",
        "colab_type": "text"
      },
      "source": [
        "## Setting the labels"
      ]
    },
    {
      "cell_type": "code",
      "metadata": {
        "id": "jZMV7J1TQdbc",
        "colab_type": "code",
        "colab": {}
      },
      "source": [
        "speech = ct.GDriveFile('1b5Xq1whO2GPGekmJQe6AZOYIsiQCbMFq', os.path.join(ct.DATASETS_DIR, 'Audio_Speech_Actors_01-24.zip'))"
      ],
      "execution_count": 0,
      "outputs": []
    },
    {
      "cell_type": "code",
      "metadata": {
        "id": "u4FsbuhBR8Sc",
        "colab_type": "code",
        "colab": {}
      },
      "source": [
        "lu.download_file_from_google_drive(speech)\n",
        "gu.unpack(speech.path)"
      ],
      "execution_count": 0,
      "outputs": []
    },
    {
      "cell_type": "code",
      "metadata": {
        "id": "an4mxFW6SrSd",
        "colab_type": "code",
        "colab": {}
      },
      "source": [
        "song = ct.GDriveFile('1bS64Cj3eji6wD4C6nw1kyGlNZqUuy8P2', os.path.join(ct.DATASETS_DIR, 'Audio_Song_Actors_01-24.zip'))"
      ],
      "execution_count": 0,
      "outputs": []
    },
    {
      "cell_type": "code",
      "metadata": {
        "id": "Z0lyFmxhSo_J",
        "colab_type": "code",
        "colab": {}
      },
      "source": [
        "lu.download_file_from_google_drive(song)\n",
        "gu.unpack(song.path)"
      ],
      "execution_count": 0,
      "outputs": []
    },
    {
      "cell_type": "code",
      "metadata": {
        "id": "BX4E6790PARB",
        "colab_type": "code",
        "colab": {}
      },
      "source": [
        "sound_files = os.path.join(ct.UNPACKED_DIR, 'Audio_*_Actors_01-24', '**', '*.wav')\n",
        "mylist = glob.glob(sound_files, recursive=True)"
      ],
      "execution_count": 0,
      "outputs": []
    },
    {
      "cell_type": "code",
      "metadata": {
        "id": "DGhf2OzjPARD",
        "colab_type": "code",
        "colab": {}
      },
      "source": [
        "feeling_list = []\n",
        "for path in mylist:\n",
        "    name = os.path.basename(path)\n",
        "    emotion = name[6:8]\n",
        "    if emotion in ['01', '02']:\n",
        "        feeling_list.append('neutral')\n",
        "    elif emotion == '03':\n",
        "        feeling_list.append('happy')\n",
        "    elif emotion == '04':\n",
        "        feeling_list.append('sad')\n",
        "    elif emotion == '05':\n",
        "        feeling_list.append('angry')\n",
        "    elif emotion == '06':\n",
        "        feeling_list.append('fearful')\n",
        "    elif emotion == '07':\n",
        "        feeling_list.append('disgust')\n",
        "    elif emotion == '08':\n",
        "        feeling_list.append('surprised')"
      ],
      "execution_count": 0,
      "outputs": []
    },
    {
      "cell_type": "code",
      "metadata": {
        "id": "uCfSdJu1PARH",
        "colab_type": "code",
        "colab": {}
      },
      "source": [
        "labels = pd.DataFrame(feeling_list)"
      ],
      "execution_count": 0,
      "outputs": []
    },
    {
      "cell_type": "code",
      "metadata": {
        "scrolled": true,
        "id": "NNk7lzO3PARL",
        "colab_type": "code",
        "colab": {}
      },
      "source": [
        "labels[:10]"
      ],
      "execution_count": 0,
      "outputs": []
    },
    {
      "cell_type": "markdown",
      "metadata": {
        "id": "YQwhQi_PcM2K",
        "colab_type": "text"
      },
      "source": [
        ""
      ]
    },
    {
      "cell_type": "markdown",
      "metadata": {
        "id": "ATwGdh5RPARO",
        "colab_type": "text"
      },
      "source": [
        "## Getting the features of audio files using librosa"
      ]
    },
    {
      "cell_type": "code",
      "metadata": {
        "id": "NeFreBZKmddK",
        "colab_type": "code",
        "colab": {}
      },
      "source": [
        ""
      ],
      "execution_count": 0,
      "outputs": []
    },
    {
      "cell_type": "code",
      "metadata": {
        "id": "Pxng9C7Vbgki",
        "colab_type": "code",
        "colab": {}
      },
      "source": [
        "try:\n",
        "  df_file = ct.GDriveFile('1n5fpSytrJz67altlv2fv3sFWN-6kDuwS', os.path.join(ct.DATASETS_DIR, 'ravdess.pcl'))\n",
        "  lu.download_file_from_google_drive(df_file)\n",
        "  df = pd.read_pickle(df_file.path)\n",
        "except:\n",
        "  df = pd.DataFrame(columns=['feature'])\n",
        "  bookmark=0\n",
        "  for index, file in enumerate(mylist):\n",
        "      X, sample_rate = librosa.load(file, res_type='kaiser_fast',duration=2.5,sr=22050*2,offset=0.5)\n",
        "      sample_rate = np.array(sample_rate)\n",
        "      mfccs = np.mean(librosa.feature.mfcc(y=X, \n",
        "                                          sr=sample_rate, \n",
        "                                          n_mfcc=13),\n",
        "                                          axis=0)\n",
        "      feature = mfccs\n",
        "      #[float(i) for i in feature]\n",
        "      #feature1=feature[:135]\n",
        "      df.loc[bookmark] = [feature]\n",
        "      bookmark=bookmark+1 \n",
        "      # df.to_pickle(os.path.join(ct.DATASETS_DIR, \"mfccs_serialized.pcl\"))"
      ],
      "execution_count": 0,
      "outputs": []
    },
    {
      "cell_type": "code",
      "metadata": {
        "id": "U0Qig3vePART",
        "colab_type": "code",
        "colab": {}
      },
      "source": [
        "df3 = pd.DataFrame(df['feature'].values.tolist())"
      ],
      "execution_count": 0,
      "outputs": []
    },
    {
      "cell_type": "code",
      "metadata": {
        "id": "g4zhkZGljibS",
        "colab_type": "code",
        "colab": {}
      },
      "source": [
        "df3"
      ],
      "execution_count": 0,
      "outputs": []
    },
    {
      "cell_type": "markdown",
      "metadata": {
        "id": "zehHDsUEPARW",
        "colab_type": "text"
      },
      "source": [
        "df3[:5]"
      ]
    },
    {
      "cell_type": "code",
      "metadata": {
        "id": "BJqVAyF4PARX",
        "colab_type": "code",
        "colab": {}
      },
      "source": [
        "newdf = pd.concat([df3,labels], axis=1)"
      ],
      "execution_count": 0,
      "outputs": []
    },
    {
      "cell_type": "code",
      "metadata": {
        "id": "59L7ra-ePARd",
        "colab_type": "code",
        "colab": {}
      },
      "source": [
        "rnewdf = newdf.rename(index=str, columns={\"0\": \"label\"})"
      ],
      "execution_count": 0,
      "outputs": []
    },
    {
      "cell_type": "code",
      "metadata": {
        "id": "oVdI0RS5PARh",
        "colab_type": "code",
        "colab": {}
      },
      "source": [
        "rnewdf[:5]"
      ],
      "execution_count": 0,
      "outputs": []
    },
    {
      "cell_type": "code",
      "metadata": {
        "id": "o0u2obfSPARk",
        "colab_type": "code",
        "colab": {}
      },
      "source": [
        "from sklearn.utils import shuffle\n",
        "rnewdf = shuffle(newdf)\n",
        "rnewdf[:10]"
      ],
      "execution_count": 0,
      "outputs": []
    },
    {
      "cell_type": "code",
      "metadata": {
        "id": "fLJWaPA4PARn",
        "colab_type": "code",
        "colab": {}
      },
      "source": [
        "rnewdf=rnewdf.fillna(0)"
      ],
      "execution_count": 0,
      "outputs": []
    },
    {
      "cell_type": "markdown",
      "metadata": {
        "id": "5EKlB6oLPARq",
        "colab_type": "text"
      },
      "source": [
        "## Dividing the data into test and train"
      ]
    },
    {
      "cell_type": "code",
      "metadata": {
        "id": "sUzFiEB1PARr",
        "colab_type": "code",
        "colab": {}
      },
      "source": [
        "newdf1 = np.random.rand(len(rnewdf)) < 0.8\n",
        "train = rnewdf[newdf1]\n",
        "test = rnewdf[~newdf1]"
      ],
      "execution_count": 0,
      "outputs": []
    },
    {
      "cell_type": "code",
      "metadata": {
        "id": "6ViFMlULPARu",
        "colab_type": "code",
        "colab": {}
      },
      "source": [
        "train[250:260]"
      ],
      "execution_count": 0,
      "outputs": []
    },
    {
      "cell_type": "code",
      "metadata": {
        "id": "7e_dxJGYPARx",
        "colab_type": "code",
        "colab": {}
      },
      "source": [
        "trainfeatures = train.iloc[:, :-1]"
      ],
      "execution_count": 0,
      "outputs": []
    },
    {
      "cell_type": "code",
      "metadata": {
        "id": "QQJ72PUwPARz",
        "colab_type": "code",
        "colab": {}
      },
      "source": [
        "trainlabel = train.iloc[:, -1:]"
      ],
      "execution_count": 0,
      "outputs": []
    },
    {
      "cell_type": "code",
      "metadata": {
        "id": "SV8XVnj_PAR1",
        "colab_type": "code",
        "colab": {}
      },
      "source": [
        "testfeatures = test.iloc[:, :-1]"
      ],
      "execution_count": 0,
      "outputs": []
    },
    {
      "cell_type": "code",
      "metadata": {
        "id": "AIIbRMXLPAR4",
        "colab_type": "code",
        "colab": {}
      },
      "source": [
        "testlabel = test.iloc[:, -1:]"
      ],
      "execution_count": 0,
      "outputs": []
    },
    {
      "cell_type": "code",
      "metadata": {
        "id": "Zq1gi7KBPAR6",
        "colab_type": "code",
        "colab": {
          "base_uri": "https://localhost:8080/",
          "height": 70
        },
        "outputId": "59428bd0-3c21-4a8a-dc82-6885b9a8c7e1"
      },
      "source": [
        "from tensorflow.keras.utils import to_categorical\n",
        "from sklearn.preprocessing import LabelEncoder\n",
        "\n",
        "X_train = np.array(trainfeatures)\n",
        "y_train = np.array(trainlabel)\n",
        "X_test = np.array(testfeatures)\n",
        "y_test = np.array(testlabel)\n",
        "\n",
        "lb = LabelEncoder()\n",
        "\n",
        "y_train = to_categorical(lb.fit_transform(y_train))\n",
        "y_test = to_categorical(lb.fit_transform(y_test))\n"
      ],
      "execution_count": 27,
      "outputs": [
        {
          "output_type": "stream",
          "text": [
            "/usr/local/lib/python3.6/dist-packages/sklearn/preprocessing/_label.py:251: DataConversionWarning: A column-vector y was passed when a 1d array was expected. Please change the shape of y to (n_samples, ), for example using ravel().\n",
            "  y = column_or_1d(y, warn=True)\n"
          ],
          "name": "stderr"
        }
      ]
    },
    {
      "cell_type": "code",
      "metadata": {
        "id": "MrkxFjB1PAR9",
        "colab_type": "code",
        "colab": {
          "base_uri": "https://localhost:8080/",
          "height": 134
        },
        "outputId": "6311ae15-2dee-4f62-8aac-d9b36f60858b"
      },
      "source": [
        "y_train"
      ],
      "execution_count": 28,
      "outputs": [
        {
          "output_type": "execute_result",
          "data": {
            "text/plain": [
              "array([[1., 0., 0., ..., 0., 0., 0.],\n",
              "       [0., 0., 0., ..., 0., 0., 0.],\n",
              "       [0., 0., 1., ..., 0., 0., 0.],\n",
              "       ...,\n",
              "       [0., 0., 0., ..., 0., 1., 0.],\n",
              "       [0., 0., 0., ..., 1., 0., 0.],\n",
              "       [0., 0., 0., ..., 1., 0., 0.]], dtype=float32)"
            ]
          },
          "metadata": {
            "tags": []
          },
          "execution_count": 28
        }
      ]
    },
    {
      "cell_type": "code",
      "metadata": {
        "id": "595PZIb8PAR-",
        "colab_type": "code",
        "colab": {
          "base_uri": "https://localhost:8080/",
          "height": 34
        },
        "outputId": "2fc14022-cd76-4bac-c6cd-b84055460add"
      },
      "source": [
        "X_train.shape"
      ],
      "execution_count": 29,
      "outputs": [
        {
          "output_type": "execute_result",
          "data": {
            "text/plain": [
              "(1937, 216)"
            ]
          },
          "metadata": {
            "tags": []
          },
          "execution_count": 29
        }
      ]
    },
    {
      "cell_type": "markdown",
      "metadata": {
        "id": "gBx1IeXtPASA",
        "colab_type": "text"
      },
      "source": [
        "## Changing dimension for CNN model"
      ]
    },
    {
      "cell_type": "code",
      "metadata": {
        "id": "mUWq2rYoPASB",
        "colab_type": "code",
        "colab": {}
      },
      "source": [
        "\n",
        "x_traincnn =np.expand_dims(X_train, axis=2)\n",
        "x_testcnn= np.expand_dims(X_test, axis=2)"
      ],
      "execution_count": 0,
      "outputs": []
    },
    {
      "cell_type": "code",
      "metadata": {
        "id": "JN5PJRGiPASH",
        "colab_type": "code",
        "colab": {
          "base_uri": "https://localhost:8080/",
          "height": 34
        },
        "outputId": "206e98b1-964d-4ff6-c4ea-7c234f9f0263"
      },
      "source": [
        "strategy = tu.get_distribution_strategy()\n",
        "with strategy.scope():\n",
        "    model = Sequential()\n",
        "    model.add(Conv1D(256, 5,padding='same',\n",
        "                    input_shape=(216,1)))\n",
        "    model.add(Activation('relu'))\n",
        "    model.add(Conv1D(128, 5,padding='same'))\n",
        "    model.add(Activation('relu'))\n",
        "    model.add(Dropout(0.1))\n",
        "    model.add(MaxPooling1D(pool_size=(8)))\n",
        "    model.add(Conv1D(128, 5,padding='same',))\n",
        "    model.add(Activation('relu'))\n",
        "    model.add(Conv1D(128, 5,padding='same',))\n",
        "    model.add(Activation('relu'))\n",
        "    model.add(Conv1D(128, 5,padding='same',))\n",
        "    model.add(Activation('relu'))\n",
        "    model.add(Dropout(0.2))\n",
        "    model.add(Conv1D(128, 5,padding='same',))\n",
        "    model.add(Activation('relu'))\n",
        "    model.add(Flatten())\n",
        "    model.add(Dense(7))\n",
        "    model.add(Activation('softmax'))\n",
        "    opt = tf.keras.optimizers.RMSprop(lr=0.00001, decay=1e-6)\n",
        "    model.compile(loss='categorical_crossentropy',\n",
        "                  optimizer=opt,\n",
        "                  metrics=['accuracy'])"
      ],
      "execution_count": 31,
      "outputs": [
        {
          "output_type": "stream",
          "text": [
            "INFO:tensorflow:Using MirroredStrategy with devices ('/job:localhost/replica:0/task:0/device:GPU:0',)\n"
          ],
          "name": "stdout"
        }
      ]
    },
    {
      "cell_type": "markdown",
      "metadata": {
        "id": "cBunfAe4PASJ",
        "colab_type": "text"
      },
      "source": [
        "### Removed the whole training part for avoiding unnecessary long epochs list"
      ]
    },
    {
      "cell_type": "code",
      "metadata": {
        "id": "2Pa7Vd2jPASJ",
        "colab_type": "code",
        "colab": {}
      },
      "source": [
        "cnnhistory=model.fit(x_traincnn, y_train, batch_size=16, epochs=300, validation_data=(x_testcnn, y_test))"
      ],
      "execution_count": 0,
      "outputs": []
    },
    {
      "cell_type": "code",
      "metadata": {
        "id": "gKiK2FH6PASL",
        "colab_type": "code",
        "colab": {}
      },
      "source": [
        "plt.plot(cnnhistory.history['accuracy'])\n",
        "plt.plot(cnnhistory.history['val_accuracy'])\n",
        "plt.title('model loss')\n",
        "plt.ylabel('loss')\n",
        "plt.xlabel('epoch')\n",
        "plt.legend(['train', 'test'], loc='upper left')\n",
        "plt.show()"
      ],
      "execution_count": 0,
      "outputs": []
    },
    {
      "cell_type": "markdown",
      "metadata": {
        "id": "9J_ggU3oPASN",
        "colab_type": "text"
      },
      "source": [
        "## Saving the model"
      ]
    },
    {
      "cell_type": "code",
      "metadata": {
        "id": "YN0aTbEXPASO",
        "colab_type": "code",
        "colab": {}
      },
      "source": [
        "model_name = 'Emotion_Voice_Detection_Model.h5'\n",
        "save_dir = os.path.join(os.getcwd(), 'saved_models')\n",
        "# Save model and weights\n",
        "if not os.path.isdir(save_dir):\n",
        "    os.makedirs(save_dir)\n",
        "model_path = os.path.join(save_dir, model_name)\n",
        "model.save(model_path)\n",
        "print('Saved trained model at %s ' % model_path)"
      ],
      "execution_count": 0,
      "outputs": []
    },
    {
      "cell_type": "code",
      "metadata": {
        "id": "_MzALCoBPASP",
        "colab_type": "code",
        "colab": {}
      },
      "source": [
        "import json\n",
        "model_json = model.to_json()\n",
        "with open(\"model.json\", \"w\") as json_file:\n",
        "    json_file.write(model_json)"
      ],
      "execution_count": 0,
      "outputs": []
    },
    {
      "cell_type": "markdown",
      "metadata": {
        "id": "ZKcJIEe0PASS",
        "colab_type": "text"
      },
      "source": [
        "## Loading the model"
      ]
    },
    {
      "cell_type": "code",
      "metadata": {
        "id": "0PRWinn-PASS",
        "colab_type": "code",
        "colab": {}
      },
      "source": [
        "# loading json and creating model\n",
        "from keras.models import model_from_json\n",
        "json_file = open('model.json', 'r')\n",
        "loaded_model_json = json_file.read()\n",
        "json_file.close()\n",
        "loaded_model = model_from_json(loaded_model_json)\n",
        "# load weights into new model\n",
        "loaded_model.load_weights(\"saved_models/Emotion_Voice_Detection_Model.h5\")\n",
        "print(\"Loaded model from disk\")\n",
        " \n",
        "# evaluate loaded model on test data\n",
        "loaded_model.compile(loss='categorical_crossentropy', optimizer=opt, metrics=['accuracy'])\n",
        "score = loaded_model.evaluate(x_testcnn, y_test, verbose=0)\n",
        "print(\"%s: %.2f%%\" % (loaded_model.metrics_names[1], score[1]*100))"
      ],
      "execution_count": 0,
      "outputs": []
    },
    {
      "cell_type": "markdown",
      "metadata": {
        "id": "6I6Gm4bdPASU",
        "colab_type": "text"
      },
      "source": [
        "## Predicting emotions on the test data"
      ]
    },
    {
      "cell_type": "code",
      "metadata": {
        "id": "WNisKp40PASV",
        "colab_type": "code",
        "colab": {
          "base_uri": "https://localhost:8080/",
          "height": 296
        },
        "outputId": "8f049f7a-6fae-4aa3-d4e6-1300d7595d23"
      },
      "source": [
        "preds = loaded_model.predict(x_testcnn, \n",
        "                         batch_size=32, \n",
        "                         verbose=1)"
      ],
      "execution_count": 43,
      "outputs": [
        {
          "output_type": "error",
          "ename": "NameError",
          "evalue": "ignored",
          "traceback": [
            "\u001b[0;31m---------------------------------------------------------------------------\u001b[0m",
            "\u001b[0;31mNameError\u001b[0m                                 Traceback (most recent call last)",
            "\u001b[0;32m<ipython-input-43-acc875209841>\u001b[0m in \u001b[0;36m<module>\u001b[0;34m()\u001b[0m\n\u001b[0;32m----> 1\u001b[0;31m preds = loaded_model.predict(x_testcnn, \n\u001b[0m\u001b[1;32m      2\u001b[0m                          \u001b[0mbatch_size\u001b[0m\u001b[0;34m=\u001b[0m\u001b[0;36m32\u001b[0m\u001b[0;34m,\u001b[0m\u001b[0;34m\u001b[0m\u001b[0;34m\u001b[0m\u001b[0m\n\u001b[1;32m      3\u001b[0m                          verbose=1)\n",
            "\u001b[0;31mNameError\u001b[0m: name 'loaded_model' is not defined",
            "",
            "\u001b[0;31m---------------------------------------------------------------------------\u001b[0;32m\nNOTE: Current TensorFlow version is 2.2.0-rc1. To use TF 1.x instead,\nrestart your runtime (Ctrl+M .) and run \"%tensorflow_version 1.x\" before\nyou run \"import tensorflow\".\n\u001b[0;31m---------------------------------------------------------------------------\u001b[0m\n"
          ]
        }
      ]
    },
    {
      "cell_type": "code",
      "metadata": {
        "id": "v9zOCm7OPASX",
        "colab_type": "code",
        "colab": {}
      },
      "source": [
        "preds"
      ],
      "execution_count": 0,
      "outputs": []
    },
    {
      "cell_type": "code",
      "metadata": {
        "id": "o26jXvfZPASa",
        "colab_type": "code",
        "colab": {}
      },
      "source": [
        "preds1=preds.argmax(axis=1)"
      ],
      "execution_count": 0,
      "outputs": []
    },
    {
      "cell_type": "code",
      "metadata": {
        "id": "X2roR3XiPASc",
        "colab_type": "code",
        "colab": {}
      },
      "source": [
        "preds1"
      ],
      "execution_count": 0,
      "outputs": []
    },
    {
      "cell_type": "code",
      "metadata": {
        "id": "rNnJWMD9PASe",
        "colab_type": "code",
        "colab": {}
      },
      "source": [
        "abc = preds1.astype(int).flatten()"
      ],
      "execution_count": 0,
      "outputs": []
    },
    {
      "cell_type": "code",
      "metadata": {
        "id": "hdHieYWkPASh",
        "colab_type": "code",
        "colab": {}
      },
      "source": [
        "predictions = (lb.inverse_transform((abc)))"
      ],
      "execution_count": 0,
      "outputs": []
    },
    {
      "cell_type": "code",
      "metadata": {
        "id": "1QYyI2-EPASl",
        "colab_type": "code",
        "colab": {}
      },
      "source": [
        "preddf = pd.DataFrame({'predictedvalues': predictions})\n",
        "preddf[:10]"
      ],
      "execution_count": 0,
      "outputs": []
    },
    {
      "cell_type": "code",
      "metadata": {
        "id": "LYvOEcEBPASo",
        "colab_type": "code",
        "colab": {}
      },
      "source": [
        "actual=y_test.argmax(axis=1)\n",
        "abc123 = actual.astype(int).flatten()\n",
        "actualvalues = (lb.inverse_transform((abc123)))"
      ],
      "execution_count": 0,
      "outputs": []
    },
    {
      "cell_type": "code",
      "metadata": {
        "id": "RpFbBxRcPASr",
        "colab_type": "code",
        "colab": {}
      },
      "source": [
        "actualdf = pd.DataFrame({'actualvalues': actualvalues})\n",
        "actualdf[:10]"
      ],
      "execution_count": 0,
      "outputs": []
    },
    {
      "cell_type": "code",
      "metadata": {
        "id": "vniWG7ovPASu",
        "colab_type": "code",
        "colab": {}
      },
      "source": [
        "finaldf = actualdf.join(preddf)"
      ],
      "execution_count": 0,
      "outputs": []
    },
    {
      "cell_type": "markdown",
      "metadata": {
        "id": "C-kfbJHlPASw",
        "colab_type": "text"
      },
      "source": [
        "## Actual v/s Predicted emotions"
      ]
    },
    {
      "cell_type": "code",
      "metadata": {
        "id": "wHjQR1z6PASx",
        "colab_type": "code",
        "colab": {}
      },
      "source": [
        "finaldf[170:180]"
      ],
      "execution_count": 0,
      "outputs": []
    },
    {
      "cell_type": "code",
      "metadata": {
        "id": "TuNCcbxAPASz",
        "colab_type": "code",
        "colab": {}
      },
      "source": [
        "finaldf.groupby('actualvalues').count()"
      ],
      "execution_count": 0,
      "outputs": []
    },
    {
      "cell_type": "code",
      "metadata": {
        "id": "etX0SNaoPAS1",
        "colab_type": "code",
        "colab": {}
      },
      "source": [
        "finaldf.groupby('predictedvalues').count()"
      ],
      "execution_count": 0,
      "outputs": []
    },
    {
      "cell_type": "code",
      "metadata": {
        "id": "0D7LgokwPAS2",
        "colab_type": "code",
        "colab": {}
      },
      "source": [
        "finaldf.to_csv('Predictions.csv', index=False)"
      ],
      "execution_count": 0,
      "outputs": []
    },
    {
      "cell_type": "markdown",
      "metadata": {
        "id": "F9mg8AcyPAS4",
        "colab_type": "text"
      },
      "source": [
        "## Live Demo"
      ]
    },
    {
      "cell_type": "markdown",
      "metadata": {
        "id": "2DHVJo44PAS5",
        "colab_type": "text"
      },
      "source": [
        "#### The file 'output10.wav' in the next cell is the file that was recorded live using the code in AudioRecoreder notebook found in the repository"
      ]
    },
    {
      "cell_type": "code",
      "metadata": {
        "id": "sOyc2SCZPAS5",
        "colab_type": "code",
        "colab": {}
      },
      "source": [
        "data, sampling_rate = librosa.load('output10.wav')"
      ],
      "execution_count": 0,
      "outputs": []
    },
    {
      "cell_type": "code",
      "metadata": {
        "id": "c_HpMSLFPAS8",
        "colab_type": "code",
        "colab": {}
      },
      "source": [
        "% pylab inline\n",
        "import os\n",
        "import pandas as pd\n",
        "import librosa\n",
        "import glob \n",
        "\n",
        "plt.figure(figsize=(15, 5))\n",
        "librosa.display.waveplot(data, sr=sampling_rate)"
      ],
      "execution_count": 0,
      "outputs": []
    },
    {
      "cell_type": "code",
      "metadata": {
        "id": "YEE2uB-ZPAS-",
        "colab_type": "code",
        "colab": {}
      },
      "source": [
        "#livedf= pd.DataFrame(columns=['feature'])\n",
        "X, sample_rate = librosa.load('output10.wav', res_type='kaiser_fast',duration=2.5,sr=22050*2,offset=0.5)\n",
        "sample_rate = np.array(sample_rate)\n",
        "mfccs = np.mean(librosa.feature.mfcc(y=X, sr=sample_rate, n_mfcc=13),axis=0)\n",
        "featurelive = mfccs\n",
        "livedf2 = featurelive"
      ],
      "execution_count": 0,
      "outputs": []
    },
    {
      "cell_type": "code",
      "metadata": {
        "id": "gDQhVXcFPATB",
        "colab_type": "code",
        "colab": {}
      },
      "source": [
        "livedf2= pd.DataFrame(data=livedf2)"
      ],
      "execution_count": 0,
      "outputs": []
    },
    {
      "cell_type": "code",
      "metadata": {
        "id": "xEi-qInVPATF",
        "colab_type": "code",
        "colab": {}
      },
      "source": [
        "livedf2 = livedf2.stack().to_frame().T"
      ],
      "execution_count": 0,
      "outputs": []
    },
    {
      "cell_type": "code",
      "metadata": {
        "id": "Jq92-APYPATH",
        "colab_type": "code",
        "colab": {}
      },
      "source": [
        "livedf2"
      ],
      "execution_count": 0,
      "outputs": []
    },
    {
      "cell_type": "code",
      "metadata": {
        "id": "hznkxk4YPATK",
        "colab_type": "code",
        "colab": {}
      },
      "source": [
        "twodim= np.expand_dims(livedf2, axis=2)"
      ],
      "execution_count": 0,
      "outputs": []
    },
    {
      "cell_type": "code",
      "metadata": {
        "id": "_WqmzjeLPATM",
        "colab_type": "code",
        "colab": {}
      },
      "source": [
        "livepreds = loaded_model.predict(twodim, \n",
        "                         batch_size=32, \n",
        "                         verbose=1)"
      ],
      "execution_count": 0,
      "outputs": []
    },
    {
      "cell_type": "code",
      "metadata": {
        "id": "vlqR8jCVPATO",
        "colab_type": "code",
        "colab": {}
      },
      "source": [
        "livepreds"
      ],
      "execution_count": 0,
      "outputs": []
    },
    {
      "cell_type": "code",
      "metadata": {
        "id": "T7LeJrN4PATQ",
        "colab_type": "code",
        "colab": {}
      },
      "source": [
        "livepreds1=livepreds.argmax(axis=1)"
      ],
      "execution_count": 0,
      "outputs": []
    },
    {
      "cell_type": "code",
      "metadata": {
        "id": "_pvnZgZYPATS",
        "colab_type": "code",
        "colab": {}
      },
      "source": [
        "liveabc = livepreds1.astype(int).flatten()"
      ],
      "execution_count": 0,
      "outputs": []
    },
    {
      "cell_type": "code",
      "metadata": {
        "id": "-320jfBXPATV",
        "colab_type": "code",
        "colab": {}
      },
      "source": [
        "livepredictions = (lb.inverse_transform((liveabc)))\n",
        "livepredictions"
      ],
      "execution_count": 0,
      "outputs": []
    },
    {
      "cell_type": "code",
      "metadata": {
        "id": "NqY82fyrPATX",
        "colab_type": "code",
        "colab": {}
      },
      "source": [
        ""
      ],
      "execution_count": 0,
      "outputs": []
    },
    {
      "cell_type": "code",
      "metadata": {
        "id": "idodItXmPATZ",
        "colab_type": "code",
        "colab": {}
      },
      "source": [
        "type(mylist)"
      ],
      "execution_count": 0,
      "outputs": []
    },
    {
      "cell_type": "code",
      "metadata": {
        "id": "hX3ae3hAPATb",
        "colab_type": "code",
        "colab": {}
      },
      "source": [
        "print(mylist[1800])"
      ],
      "execution_count": 0,
      "outputs": []
    },
    {
      "cell_type": "code",
      "metadata": {
        "id": "N7jiNBT7PATc",
        "colab_type": "code",
        "colab": {}
      },
      "source": [
        "print(mylist[400][6:-16])"
      ],
      "execution_count": 0,
      "outputs": []
    },
    {
      "cell_type": "markdown",
      "metadata": {
        "id": "OO3tsQerPATd",
        "colab_type": "text"
      },
      "source": [
        "## Plotting the audio file's waveform and its spectrogram"
      ]
    },
    {
      "cell_type": "code",
      "metadata": {
        "id": "dtczbxlGPATe",
        "colab_type": "code",
        "colab": {}
      },
      "source": [
        "data, sampling_rate = librosa.load(mylist[0])"
      ],
      "execution_count": 0,
      "outputs": []
    },
    {
      "cell_type": "code",
      "metadata": {
        "id": "81wljJaiPATg",
        "colab_type": "code",
        "colab": {}
      },
      "source": [
        "import os\n",
        "import pandas as pd\n",
        "import librosa\n",
        "import glob \n",
        "\n",
        "plt.figure(figsize=(15, 5))\n",
        "librosa.display.waveplot(data, sr=sampling_rate)"
      ],
      "execution_count": 0,
      "outputs": []
    },
    {
      "cell_type": "code",
      "metadata": {
        "id": "3kGBpnw2PATi",
        "colab_type": "code",
        "colab": {}
      },
      "source": [
        "import matplotlib.pyplot as plt\n",
        "import scipy.io.wavfile\n",
        "import numpy as np\n",
        "import sys\n",
        "\n",
        "\n",
        "sr,x = scipy.io.wavfile.read(mylist[0])\n",
        "\n",
        "## Parameters: 10ms step, 30ms window\n",
        "nstep = int(sr * 0.01)\n",
        "nwin  = int(sr * 0.03)\n",
        "nfft = nwin\n",
        "\n",
        "window = np.hamming(nwin)\n",
        "\n",
        "## will take windows x[n1:n2].  generate\n",
        "## and loop over n2 such that all frames\n",
        "## fit within the waveform\n",
        "nn = range(nwin, len(x), nstep)\n",
        "\n",
        "X = np.zeros( (len(nn), nfft//2) )\n",
        "\n",
        "for i,n in enumerate(nn):\n",
        "    xseg = x[n-nwin:n]\n",
        "    z = np.fft.fft(window * xseg, nfft)\n",
        "    X[i,:] = np.log(np.abs(z[:nfft//2]))\n",
        "\n",
        "plt.imshow(X.T, interpolation='nearest',\n",
        "    origin='lower',\n",
        "    aspect='auto')\n",
        "\n",
        "plt.show()"
      ],
      "execution_count": 0,
      "outputs": []
    },
    {
      "cell_type": "code",
      "metadata": {
        "id": "lhHjfZRLPATj",
        "colab_type": "code",
        "colab": {}
      },
      "source": [
        ""
      ],
      "execution_count": 0,
      "outputs": []
    }
  ]
}