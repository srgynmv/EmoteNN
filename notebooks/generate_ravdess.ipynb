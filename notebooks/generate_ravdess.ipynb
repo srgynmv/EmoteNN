{
 "cells": [
  {
   "cell_type": "markdown",
   "metadata": {
    "colab_type": "text",
    "id": "6gdQaLYSPAQy"
   },
   "source": [
    "## Importing the required libraries"
   ]
  },
  {
   "cell_type": "code",
   "execution_count": null,
   "metadata": {
    "colab": {},
    "colab_type": "code",
    "id": "34gNMxZMPAQ8"
   },
   "outputs": [],
   "source": [
    "import os\n",
    "import glob\n",
    "import librosa\n",
    "import numpy as np\n",
    "import pandas as pd\n",
    "from emotenn import constants as ct, gen_utils as gu, load_utils as lu"
   ]
  },
  {
   "cell_type": "markdown",
   "metadata": {
    "colab_type": "text",
    "id": "7O-Y0W2mPARA"
   },
   "source": [
    "## Setting the labels"
   ]
  },
  {
   "cell_type": "code",
   "execution_count": null,
   "metadata": {
    "colab": {},
    "colab_type": "code",
    "id": "u4FsbuhBR8Sc"
   },
   "outputs": [],
   "source": [
    "for archive in [ct.RAVDESS_SPEECH, ct.RAVDESS_SONG]:\n",
    "    lu.download_file_from_google_drive(archive, exist_ok=True)\n",
    "    gu.unpack(archive.path)"
   ]
  },
  {
   "cell_type": "code",
   "execution_count": null,
   "metadata": {
    "colab": {},
    "colab_type": "code",
    "id": "BX4E6790PARB"
   },
   "outputs": [],
   "source": [
    "sound_files_pattern = os.path.join(ct.UNPACKED_DIR, 'Audio_*_Actors_01-24', '**', '*.wav')\n",
    "sound_files = glob.glob(sound_files_pattern, recursive=True)"
   ]
  },
  {
   "cell_type": "code",
   "execution_count": null,
   "metadata": {
    "colab": {},
    "colab_type": "code",
    "id": "DGhf2OzjPARD"
   },
   "outputs": [],
   "source": [
    "labels = []\n",
    "for sound_path in sound_files:\n",
    "    name = os.path.basename(sound_path)\n",
    "    emotion = name[6:8]\n",
    "    if emotion in ['01', '02']:\n",
    "        label = 'Neutral'\n",
    "    elif emotion == '03':\n",
    "        label = 'Happy'\n",
    "    elif emotion == '04':\n",
    "        label = 'Sad'\n",
    "    elif emotion == '05':\n",
    "        label = 'Angry'\n",
    "    elif emotion == '06':\n",
    "        label = 'Fear'\n",
    "    elif emotion == '07':\n",
    "        label = 'Disgust'\n",
    "    elif emotion == '08':\n",
    "        label = 'Surprise'\n",
    "    labels.append(label)\n",
    "dummies = pd.get_dummies(labels)[ct.CLASS_NAMES]\n",
    "Y = dummies.to_numpy(dtype='float32')"
   ]
  },
  {
   "cell_type": "markdown",
   "metadata": {
    "colab_type": "text",
    "id": "ATwGdh5RPARO"
   },
   "source": [
    "## Getting the MFCC features of audio files using librosa"
   ]
  },
  {
   "cell_type": "code",
   "execution_count": null,
   "metadata": {
    "colab": {},
    "colab_type": "code",
    "id": "Pxng9C7Vbgki"
   },
   "outputs": [],
   "source": [
    "mfcc_features = []\n",
    "for sound_path in sound_files:\n",
    "    y, sample_rate = librosa.load(sound_path, res_type='kaiser_fast', duration=2.5, sr=22050*2, offset=0.5)\n",
    "    mfcc = librosa.feature.mfcc(y=y, sr=sample_rate, n_mfcc=13)\n",
    "    mfcc_features.append(mfcc)"
   ]
  },
  {
   "cell_type": "code",
   "execution_count": null,
   "metadata": {},
   "outputs": [],
   "source": [
    "# Fill missing elements with zeros\n",
    "result_shape = max([mfcc.shape for mfcc in X])\n",
    "X = []\n",
    "for mfcc in mfcc_features:\n",
    "    z = np.zeros((mfcc.shape[0], result_shape[1] - mfcc.shape[1]), dtype=mfcc.dtype)\n",
    "    X.append(np.concatenate((mfcc,z), axis=1))\n",
    "X = np.asarray(X)"
   ]
  },
  {
   "cell_type": "code",
   "execution_count": null,
   "metadata": {
    "colab": {},
    "colab_type": "code",
    "id": "g4zhkZGljibS"
   },
   "outputs": [],
   "source": [
    "gu.save(X, Y, 'ravdess')"
   ]
  }
 ],
 "metadata": {
  "accelerator": "GPU",
  "colab": {
   "name": "generate_ravdess.ipynb",
   "provenance": []
  },
  "kernelspec": {
   "display_name": "Python 3",
   "language": "python",
   "name": "python3"
  },
  "language_info": {
   "codemirror_mode": {
    "name": "ipython",
    "version": 3
   },
   "file_extension": ".py",
   "mimetype": "text/x-python",
   "name": "python",
   "nbconvert_exporter": "python",
   "pygments_lexer": "ipython3",
   "version": "3.6.2"
  }
 },
 "nbformat": 4,
 "nbformat_minor": 1
}
