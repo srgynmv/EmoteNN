{
  "nbformat": 4,
  "nbformat_minor": 0,
  "metadata": {
    "kernelspec": {
      "display_name": "Python 3",
      "language": "python",
      "name": "python3"
    },
    "language_info": {
      "codemirror_mode": {
        "name": "ipython",
        "version": 3
      },
      "file_extension": ".py",
      "mimetype": "text/x-python",
      "name": "python",
      "nbconvert_exporter": "python",
      "pygments_lexer": "ipython3",
      "version": "3.6.2"
    },
    "colab": {
      "name": "AudioRecorder.ipynb",
      "provenance": []
    }
  },
  "cells": [
    {
      "cell_type": "code",
      "metadata": {
        "id": "Nl4oIstyj5J_",
        "colab_type": "code",
        "colab": {}
      },
      "source": [
        "import numpy as np\n",
        "from IPython.display import Audio, Javascript\n",
        "from scipy.io import wavfile\n",
        "from google.colab import output\n",
        "from base64 import b64decode\n",
        "\n",
        "FRAMERATE = 44100"
      ],
      "execution_count": 0,
      "outputs": []
    },
    {
      "cell_type": "code",
      "metadata": {
        "id": "bDGDyY_emvvX",
        "colab_type": "code",
        "colab": {}
      },
      "source": [
        "RECORD = \"\"\"\n",
        "const sleep  = time => new Promise(resolve => setTimeout(resolve, time))\n",
        "const b2text = blob => new Promise(resolve => {\n",
        "  const reader = new FileReader()\n",
        "  reader.onloadend = e => resolve(e.srcElement.result)\n",
        "  reader.readAsDataURL(blob)\n",
        "})\n",
        "var record = time => new Promise(async resolve => {\n",
        "  stream = await navigator.mediaDevices.getUserMedia({ audio: true })\n",
        "  recorder = new MediaRecorder(stream)\n",
        "  chunks = []\n",
        "  recorder.ondataavailable = e => chunks.push(e.data)\n",
        "  recorder.start()\n",
        "  await sleep(time)\n",
        "  recorder.onstop = async ()=>{\n",
        "    blob = new Blob(chunks)\n",
        "    text = await b2text(blob)\n",
        "    resolve(text)\n",
        "  }\n",
        "  recorder.stop()\n",
        "})\n",
        "\"\"\"\n",
        "\n",
        "def record(sec=3):\n",
        "  print(\"Start recording...\")\n",
        "  display(Javascript(RECORD))\n",
        "  s = output.eval_js('record(%d)' % (sec*1000))\n",
        "  b = b64decode(s.split(',')[1])\n",
        "  print(\"Stop recording...\")\n",
        "  return b\n",
        "\n",
        "\n",
        "def record_in_file(file_name=\"tmp_audio.wav\", sec=3):\n",
        "  data = record(sec)\n",
        "  with open(file_name,'wb') as f:\n",
        "    f.write(data)\n",
        "  print(\"Created {} audio file\".format(file_name))"
      ],
      "execution_count": 0,
      "outputs": []
    },
    {
      "cell_type": "code",
      "metadata": {
        "id": "PZkdjIOdkDJd",
        "colab_type": "code",
        "colab": {}
      },
      "source": [
        "data = record()\n",
        "Audio(data,rate=FRAMERATE,autoplay=False)"
      ],
      "execution_count": 0,
      "outputs": []
    },
    {
      "cell_type": "code",
      "metadata": {
        "id": "oek71-tEki12",
        "colab_type": "code",
        "colab": {}
      },
      "source": [
        "file_name = \"audio_sample.wav\"\n",
        "record_in_file(file_name)\n",
        "data = open(file_name, \"rb\").read()\n",
        "Audio(data,rate=FRAMERATE,autoplay=False)"
      ],
      "execution_count": 0,
      "outputs": []
    }
  ]
}