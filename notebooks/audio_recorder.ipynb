{
  "nbformat": 4,
  "nbformat_minor": 0,
  "metadata": {
    "kernelspec": {
      "display_name": "Python 3",
      "language": "python",
      "name": "python3"
    },
    "language_info": {
      "codemirror_mode": {
        "name": "ipython",
        "version": 3
      },
      "file_extension": ".py",
      "mimetype": "text/x-python",
      "name": "python",
      "nbconvert_exporter": "python",
      "pygments_lexer": "ipython3",
      "version": "3.6.2"
    },
    "colab": {
      "name": "AudioRecorder.ipynb",
      "provenance": []
    }
  },
  "cells": [
    {
      "cell_type": "code",
      "metadata": {
        "id": "Nl4oIstyj5J_",
        "colab_type": "code",
        "colab": {}
      },
      "source": [
        "!git clone -l -s -b master git://github.com/srgynmv/EmoteNN.git emotenn\n",
        "%cd emotenn"
      ],
      "execution_count": 0,
      "outputs": []
    },
    {
      "cell_type": "code",
      "execution_count": null,
      "metadata": {},
      "outputs": [],
      "source": [
        "from emotenn import audio_utils as au"
      ]
    },
    {
      "cell_type": "code",
      "metadata": {
        "id": "PZkdjIOdkDJd",
        "colab_type": "code",
        "colab": {}
      },
      "source": [
        "recored_audio = au.record_audio()\n",
        "recored_audio"
      ],
      "execution_count": 0,
      "outputs": []
    },
    {
      "cell_type": "code",
      "metadata": {
        "id": "oek71-tEki12",
        "colab_type": "code",
        "colab": {}
      },
      "source": [
        "file_name = \"audio_sample.wav\"\n",
        "au.record_audio_in_file(file_name)\n",
        "audio = au.load_audio(file_name)\n",
        "audio"
      ],
      "execution_count": 0,
      "outputs": []
    }
  ]
}