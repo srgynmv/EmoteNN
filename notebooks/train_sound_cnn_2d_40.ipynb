{
  "nbformat": 4,
  "nbformat_minor": 0,
  "metadata": {
    "colab": {
      "name": "train_sound_cnn_2d_40.ipynb",
      "provenance": [],
      "collapsed_sections": [
        "BksZq3Z7DDMk"
      ]
    },
    "kernelspec": {
      "name": "python3",
      "display_name": "Python 3"
    },
    "language_info": {
      "codemirror_mode": {
        "name": "ipython",
        "version": 3
      },
      "file_extension": ".py",
      "mimetype": "text/x-python",
      "name": "python",
      "nbconvert_exporter": "python",
      "pygments_lexer": "ipython3",
      "version": "3.6.2"
    },
    "accelerator": "TPU"
  },
  "cells": [
    {
      "cell_type": "code",
      "metadata": {
        "id": "CYHjAamcDN7y",
        "colab_type": "code",
        "outputId": "28017f9c-e52b-4b5e-a296-e3d4d7d6d2a2",
        "colab": {
          "base_uri": "https://localhost:8080/",
          "height": 170
        }
      },
      "source": [
        "!git clone -l -s -b master git://github.com/srgynmv/EmoteNN.git emotenn\n",
        "%cd emotenn"
      ],
      "execution_count": 0,
      "outputs": [
        {
          "output_type": "stream",
          "text": [
            "Cloning into 'emotenn'...\n",
            "warning: --local is ignored\n",
            "remote: Enumerating objects: 20, done.\u001b[K\n",
            "remote: Counting objects:   5% (1/20)\u001b[K\rremote: Counting objects:  10% (2/20)\u001b[K\rremote: Counting objects:  15% (3/20)\u001b[K\rremote: Counting objects:  20% (4/20)\u001b[K\rremote: Counting objects:  25% (5/20)\u001b[K\rremote: Counting objects:  30% (6/20)\u001b[K\rremote: Counting objects:  35% (7/20)\u001b[K\rremote: Counting objects:  40% (8/20)\u001b[K\rremote: Counting objects:  45% (9/20)\u001b[K\rremote: Counting objects:  50% (10/20)\u001b[K\rremote: Counting objects:  55% (11/20)\u001b[K\rremote: Counting objects:  60% (12/20)\u001b[K\rremote: Counting objects:  65% (13/20)\u001b[K\rremote: Counting objects:  70% (14/20)\u001b[K\rremote: Counting objects:  75% (15/20)\u001b[K\rremote: Counting objects:  80% (16/20)\u001b[K\rremote: Counting objects:  85% (17/20)\u001b[K\rremote: Counting objects:  90% (18/20)\u001b[K\rremote: Counting objects:  95% (19/20)\u001b[K\rremote: Counting objects: 100% (20/20)\u001b[K\rremote: Counting objects: 100% (20/20), done.\u001b[K\n",
            "remote: Compressing objects:   6% (1/15)\u001b[K\rremote: Compressing objects:  13% (2/15)\u001b[K\rremote: Compressing objects:  20% (3/15)\u001b[K\rremote: Compressing objects:  26% (4/15)\u001b[K\rremote: Compressing objects:  33% (5/15)\u001b[K\rremote: Compressing objects:  40% (6/15)\u001b[K\rremote: Compressing objects:  46% (7/15)\u001b[K\rremote: Compressing objects:  53% (8/15)\u001b[K\rremote: Compressing objects:  60% (9/15)\u001b[K\rremote: Compressing objects:  66% (10/15)\u001b[K\rremote: Compressing objects:  73% (11/15)\u001b[K\rremote: Compressing objects:  80% (12/15)\u001b[K\rremote: Compressing objects:  86% (13/15)\u001b[K\rremote: Compressing objects:  93% (14/15)\u001b[K\rremote: Compressing objects: 100% (15/15)\u001b[K\rremote: Compressing objects: 100% (15/15), done.\u001b[K\n",
            "Receiving objects:   0% (1/317)   \rReceiving objects:   1% (4/317)   \rReceiving objects:   2% (7/317)   \rReceiving objects:   3% (10/317)   \rReceiving objects:   4% (13/317)   \rReceiving objects:   5% (16/317)   \rReceiving objects:   6% (20/317)   \rReceiving objects:   7% (23/317)   \rReceiving objects:   8% (26/317)   \rReceiving objects:   9% (29/317)   \rReceiving objects:  10% (32/317)   \rReceiving objects:  11% (35/317)   \rReceiving objects:  12% (39/317)   \rReceiving objects:  13% (42/317)   \rReceiving objects:  14% (45/317)   \rReceiving objects:  15% (48/317)   \rReceiving objects:  16% (51/317)   \rReceiving objects:  17% (54/317)   \rReceiving objects:  18% (58/317)   \rReceiving objects:  19% (61/317)   \rReceiving objects:  20% (64/317)   \rReceiving objects:  21% (67/317)   \rReceiving objects:  22% (70/317)   \rReceiving objects:  23% (73/317)   \rReceiving objects:  24% (77/317)   \rReceiving objects:  25% (80/317)   \rReceiving objects:  26% (83/317)   \rReceiving objects:  27% (86/317)   \rReceiving objects:  28% (89/317)   \rReceiving objects:  29% (92/317)   \rReceiving objects:  30% (96/317)   \rReceiving objects:  31% (99/317)   \rReceiving objects:  32% (102/317)   \rReceiving objects:  33% (105/317)   \rReceiving objects:  34% (108/317)   \rReceiving objects:  35% (111/317)   \rReceiving objects:  36% (115/317)   \rReceiving objects:  37% (118/317)   \rReceiving objects:  38% (121/317)   \rReceiving objects:  39% (124/317)   \rReceiving objects:  40% (127/317)   \rReceiving objects:  41% (130/317)   \rReceiving objects:  42% (134/317)   \rReceiving objects:  43% (137/317)   \rReceiving objects:  44% (140/317)   \rReceiving objects:  45% (143/317)   \rReceiving objects:  46% (146/317)   \rReceiving objects:  47% (149/317)   \rReceiving objects:  48% (153/317)   \rReceiving objects:  49% (156/317)   \rReceiving objects:  50% (159/317)   \rReceiving objects:  51% (162/317)   \rReceiving objects:  52% (165/317)   \rReceiving objects:  53% (169/317)   \rReceiving objects:  54% (172/317)   \rReceiving objects:  55% (175/317)   \rReceiving objects:  56% (178/317)   \rReceiving objects:  57% (181/317)   \rReceiving objects:  58% (184/317)   \rReceiving objects:  59% (188/317)   \rReceiving objects:  60% (191/317)   \rReceiving objects:  61% (194/317)   \rReceiving objects:  62% (197/317)   \rReceiving objects:  63% (200/317)   \rReceiving objects:  64% (203/317)   \rReceiving objects:  65% (207/317)   \rReceiving objects:  66% (210/317)   \rReceiving objects:  67% (213/317)   \rremote: Total 317 (delta 9), reused 14 (delta 5), pack-reused 297\u001b[K\n",
            "Receiving objects:  68% (216/317)   \rReceiving objects:  69% (219/317)   \rReceiving objects:  70% (222/317)   \rReceiving objects:  71% (226/317)   \rReceiving objects:  72% (229/317)   \rReceiving objects:  73% (232/317)   \rReceiving objects:  74% (235/317)   \rReceiving objects:  75% (238/317)   \rReceiving objects:  76% (241/317)   \rReceiving objects:  77% (245/317)   \rReceiving objects:  78% (248/317)   \rReceiving objects:  79% (251/317)   \rReceiving objects:  80% (254/317)   \rReceiving objects:  81% (257/317)   \rReceiving objects:  82% (260/317)   \rReceiving objects:  83% (264/317)   \rReceiving objects:  84% (267/317)   \rReceiving objects:  85% (270/317)   \rReceiving objects:  86% (273/317)   \rReceiving objects:  87% (276/317)   \rReceiving objects:  88% (279/317)   \rReceiving objects:  89% (283/317)   \rReceiving objects:  90% (286/317)   \rReceiving objects:  91% (289/317)   \rReceiving objects:  92% (292/317)   \rReceiving objects:  93% (295/317)   \rReceiving objects:  94% (298/317)   \rReceiving objects:  95% (302/317)   \rReceiving objects:  96% (305/317)   \rReceiving objects:  97% (308/317)   \rReceiving objects:  98% (311/317)   \rReceiving objects:  99% (314/317)   \rReceiving objects: 100% (317/317)   \rReceiving objects: 100% (317/317), 541.74 KiB | 5.06 MiB/s, done.\n",
            "Resolving deltas:   0% (0/181)   \rResolving deltas:   1% (2/181)   \rResolving deltas:   6% (11/181)   \rResolving deltas:   8% (16/181)   \rResolving deltas:  18% (33/181)   \rResolving deltas:  23% (43/181)   \rResolving deltas:  28% (52/181)   \rResolving deltas:  32% (59/181)   \rResolving deltas:  37% (68/181)   \rResolving deltas:  39% (71/181)   \rResolving deltas:  40% (73/181)   \rResolving deltas:  41% (75/181)   \rResolving deltas:  48% (88/181)   \rResolving deltas:  50% (92/181)   \rResolving deltas:  51% (93/181)   \rResolving deltas:  54% (98/181)   \rResolving deltas:  58% (106/181)   \rResolving deltas:  59% (108/181)   \rResolving deltas:  61% (111/181)   \rResolving deltas:  64% (116/181)   \rResolving deltas:  72% (132/181)   \rResolving deltas:  74% (135/181)   \rResolving deltas:  75% (136/181)   \rResolving deltas:  79% (143/181)   \rResolving deltas:  80% (146/181)   \rResolving deltas:  85% (154/181)   \rResolving deltas:  87% (159/181)   \rResolving deltas:  88% (160/181)   \rResolving deltas:  89% (162/181)   \rResolving deltas:  90% (164/181)   \rResolving deltas:  91% (166/181)   \rResolving deltas:  92% (167/181)   \rResolving deltas:  93% (169/181)   \rResolving deltas:  94% (171/181)   \rResolving deltas:  95% (172/181)   \rResolving deltas:  96% (175/181)   \rResolving deltas:  97% (176/181)   \rResolving deltas:  98% (179/181)   \rResolving deltas:  99% (180/181)   \rResolving deltas: 100% (181/181)   \rResolving deltas: 100% (181/181), done.\n",
            "/content/emotenn\n"
          ],
          "name": "stdout"
        }
      ]
    },
    {
      "cell_type": "markdown",
      "metadata": {
        "id": "BksZq3Z7DDMk",
        "colab_type": "text"
      },
      "source": [
        "# Feature generation"
      ]
    },
    {
      "cell_type": "code",
      "metadata": {
        "id": "RcS5SaPeDLz-",
        "colab_type": "code",
        "colab": {}
      },
      "source": [
        "import os\n",
        "import glob\n",
        "import librosa\n",
        "import numpy as np\n",
        "import pandas as pd\n",
        "from emotenn import constants as ct, gen_utils as gu, load_utils as lu"
      ],
      "execution_count": 0,
      "outputs": []
    },
    {
      "cell_type": "code",
      "metadata": {
        "id": "Crr9olUvDMjc",
        "colab_type": "code",
        "colab": {}
      },
      "source": [
        "for archive in [ct.RAVDESS_SPEECH, ct.RAVDESS_SONG]:\n",
        "    lu.download_file_from_google_drive(archive, exist_ok=True)\n",
        "    gu.unpack(archive.path)"
      ],
      "execution_count": 0,
      "outputs": []
    },
    {
      "cell_type": "code",
      "metadata": {
        "id": "q-tR_yDmDUSn",
        "colab_type": "code",
        "colab": {}
      },
      "source": [
        "sound_files_pattern = os.path.join(ct.UNPACKED_DIR, 'Audio_*_Actors_01-24', '**', '*.wav')\n",
        "sound_files = glob.glob(sound_files_pattern, recursive=True)"
      ],
      "execution_count": 0,
      "outputs": []
    },
    {
      "cell_type": "code",
      "metadata": {
        "id": "wmHk26CfDVVF",
        "colab_type": "code",
        "colab": {}
      },
      "source": [
        "labels = []\n",
        "for sound_path in sound_files:\n",
        "    name = os.path.basename(sound_path)\n",
        "    emotion = name[6:8]\n",
        "    if emotion in ['01', '02']:\n",
        "        label = 'Neutral'\n",
        "    elif emotion == '03':\n",
        "        label = 'Happy'\n",
        "    elif emotion == '04':\n",
        "        label = 'Sad'\n",
        "    elif emotion == '05':\n",
        "        label = 'Angry'\n",
        "    elif emotion == '06':\n",
        "        label = 'Fear'\n",
        "    elif emotion == '07':\n",
        "        label = 'Disgust'\n",
        "    elif emotion == '08':\n",
        "        label = 'Surprise'\n",
        "    labels.append(label)\n",
        "dummies = pd.get_dummies(labels)[ct.CLASS_NAMES]\n",
        "Y = dummies.to_numpy(dtype='float32')"
      ],
      "execution_count": 0,
      "outputs": []
    },
    {
      "cell_type": "code",
      "metadata": {
        "id": "LzTlFbTXIP_P",
        "colab_type": "code",
        "colab": {}
      },
      "source": [
        "def normalize_mfcc(mfcc):\n",
        "    mean = np.mean(mfcc, axis=1)\n",
        "    std = np.std(mfcc, axis=1)\n",
        "    mfcc = mfcc.transpose()\n",
        "    mfcc -= mean\n",
        "    mfcc /= std\n",
        "    return mfcc.transpose()"
      ],
      "execution_count": 0,
      "outputs": []
    },
    {
      "cell_type": "code",
      "metadata": {
        "id": "zR7WqOcvDW-d",
        "colab_type": "code",
        "colab": {}
      },
      "source": [
        "mfcc_features = []\n",
        "mfcc_number = 40\n",
        "for sound_path in sound_files:\n",
        "    y, sample_rate = librosa.load(sound_path, res_type='kaiser_fast', duration=2.5, sr=22050*2, offset=0.5)\n",
        "    mfcc = librosa.feature.mfcc(y=y, sr=sample_rate, n_mfcc=mfcc_number)\n",
        "    mfcc_features.append(mfcc)"
      ],
      "execution_count": 0,
      "outputs": []
    },
    {
      "cell_type": "code",
      "metadata": {
        "id": "yC9nL-u8DYHl",
        "colab_type": "code",
        "outputId": "af6ccb84-b6ed-44e2-ae50-82f12a4dc4d9",
        "colab": {
          "base_uri": "https://localhost:8080/",
          "height": 34
        }
      },
      "source": [
        "# Fill missing elements with zeros\n",
        "result_shape = max([mfcc.shape for mfcc in mfcc_features])\n",
        "X = []\n",
        "for mfcc in mfcc_features:\n",
        "    z = np.zeros((mfcc.shape[0], result_shape[1] - mfcc.shape[1]), dtype=mfcc.dtype)\n",
        "    X.append(np.concatenate((mfcc,z), axis=1))\n",
        "X = np.asarray(X)\n",
        "print(f'Dataset shape: {X.shape}')"
      ],
      "execution_count": 0,
      "outputs": [
        {
          "output_type": "stream",
          "text": [
            "Dataset shape: (2452, 40, 216)\n"
          ],
          "name": "stdout"
        }
      ]
    },
    {
      "cell_type": "code",
      "metadata": {
        "id": "R9hJmlWmDZfN",
        "colab_type": "code",
        "outputId": "9e8fe018-4cc3-41ce-b2c7-c8b71349156e",
        "colab": {
          "base_uri": "https://localhost:8080/",
          "height": 51
        }
      },
      "source": [
        "gu.save(X, Y, 'ravdess-40-orig')"
      ],
      "execution_count": 0,
      "outputs": [
        {
          "output_type": "stream",
          "text": [
            "Generated 2452 items\n",
            "Data saved in /content/emotenn/datasets/ravdess-40-orig.bin\n"
          ],
          "name": "stdout"
        }
      ]
    },
    {
      "cell_type": "markdown",
      "metadata": {
        "id": "gT4qw_-TDoZb",
        "colab_type": "text"
      },
      "source": [
        "# Training and classification"
      ]
    },
    {
      "cell_type": "markdown",
      "metadata": {
        "colab_type": "text",
        "id": "6gdQaLYSPAQy"
      },
      "source": [
        "## Importing the required libraries"
      ]
    },
    {
      "cell_type": "code",
      "metadata": {
        "colab_type": "code",
        "id": "2l3502Y-PAQz",
        "outputId": "a86fd4b2-77ec-4828-e7c1-fb609e117de0",
        "colab": {
          "base_uri": "https://localhost:8080/",
          "height": 71
        }
      },
      "source": [
        "import os\n",
        "import numpy as np\n",
        "import matplotlib.pyplot as plt\n",
        "from emotenn import constants as ct, train_utils as tu, load_utils as lu, plot_utils as pu, gen_utils as gu"
      ],
      "execution_count": 0,
      "outputs": [
        {
          "output_type": "stream",
          "text": [
            "/usr/local/lib/python3.6/dist-packages/statsmodels/tools/_testing.py:19: FutureWarning: pandas.util.testing is deprecated. Use the functions in the public API at pandas.testing instead.\n",
            "  import pandas.util.testing as tm\n"
          ],
          "name": "stderr"
        }
      ]
    },
    {
      "cell_type": "code",
      "metadata": {
        "colab_type": "code",
        "id": "PYkyaBTSPAQ4",
        "colab": {}
      },
      "source": [
        "%tensorflow_version 2.x\n",
        "import tensorflow as tf\n",
        "import tensorflow.keras\n",
        "from tensorflow.keras.models import Sequential\n",
        "from tensorflow.keras.layers import Dense, Embedding, Bidirectional\n",
        "from tensorflow.keras.layers import Input, Flatten, Dropout, Activation, BatchNormalization\n",
        "from tensorflow.keras.layers import Conv2D, MaxPooling2D\n",
        "from tensorflow.keras.layers import LSTM\n",
        "from tensorflow.keras.models import Model\n",
        "from tensorflow.keras import callbacks"
      ],
      "execution_count": 0,
      "outputs": []
    },
    {
      "cell_type": "markdown",
      "metadata": {
        "id": "oM9wbFzEGCgl",
        "colab_type": "text"
      },
      "source": [
        "## Download and preprocess dataset"
      ]
    },
    {
      "cell_type": "code",
      "metadata": {
        "id": "eUy-FXMJF7Lb",
        "colab_type": "code",
        "colab": {}
      },
      "source": [
        "def load_from_disk(name):\n",
        "    dataset_path = os.path.join(ct.DATASETS_DIR, name) + '.bin'\n",
        "    with open(dataset_path, 'rb') as dataset_file:\n",
        "        X = np.load(dataset_file)\n",
        "        Y = np.load(dataset_file)\n",
        "    return X, Y"
      ],
      "execution_count": 0,
      "outputs": []
    },
    {
      "cell_type": "code",
      "metadata": {
        "id": "QNLWrkQxGCgm",
        "colab_type": "code",
        "outputId": "094b3de8-79c6-41fe-f226-0b40cfc0039c",
        "colab": {
          "base_uri": "https://localhost:8080/",
          "height": 34
        }
      },
      "source": [
        "#X, Y = lu.load_dataset(ct.GDriveFile('18Wq6sBNFo-zaTdqN3wR0J_bJLOtZhFSn', os.path.join(ct.DATASETS_DIR, 'ravdess-40-orig.bin')))\n",
        "X, Y = lu.load_dataset(ct.GDriveFile('11HwnPtd--Vp2xPmXItEn2hKaWdXKLwSu', os.path.join(ct.DATASETS_DIR, 'ravdess-40.bin')))\n",
        "\n",
        "X = np.expand_dims(X, -1)\n",
        "X = X.astype(np.float32)\n",
        "\n",
        "split = tu.split_dataset(X, Y, test_size=0.15, valid_size=0.2, align_by=128)\n",
        "X_train, X_valid, X_test, Y_train, Y_valid, Y_test = split\n",
        "print(f'Data dimensions: {X.shape}')"
      ],
      "execution_count": 0,
      "outputs": [
        {
          "output_type": "stream",
          "text": [
            "Data dimensions: (2452, 40, 216, 1)\n"
          ],
          "name": "stdout"
        }
      ]
    },
    {
      "cell_type": "markdown",
      "metadata": {
        "id": "25m6NXqrrXK_",
        "colab_type": "text"
      },
      "source": [
        "## Initialize utility functions and variables"
      ]
    },
    {
      "cell_type": "code",
      "metadata": {
        "colab_type": "code",
        "id": "xwHZ8r84r8ov",
        "colab": {}
      },
      "source": [
        "def display_results(model, history):\n",
        "    for name, x, y in [('Train', X_train, Y_train), ('Validation', X_valid, Y_valid), ('Test', X_test, Y_test)]:\n",
        "        score = model.evaluate(x, y)\n",
        "        print(\"{} dataset {}: {:.2f}%\".format(name, model.metrics_names[1], score[1] * 100))\n",
        "    pu.plot_model_history(history.history)\n",
        "    pu.plot_confusion_matrix(model, X_test, Y_test)\n",
        "\n",
        "def train(model, batch_size=64, epochs=300, cb=None):\n",
        "    return model.fit(X_train, \n",
        "                     Y_train, \n",
        "                     batch_size=batch_size, \n",
        "                     epochs=epochs, \n",
        "                     validation_data=(X_valid, Y_valid),\n",
        "                     callbacks=cb,\n",
        "                     shuffle=True)"
      ],
      "execution_count": 0,
      "outputs": []
    },
    {
      "cell_type": "code",
      "metadata": {
        "id": "TDG2FJK1r3Wg",
        "colab_type": "code",
        "outputId": "ebbe7ad7-5b06-4bd7-a4eb-2859ecc8276e",
        "colab": {
          "base_uri": "https://localhost:8080/",
          "height": 751
        }
      },
      "source": [
        "strategy = tu.get_distribution_strategy()"
      ],
      "execution_count": 0,
      "outputs": [
        {
          "output_type": "stream",
          "text": [
            "WARNING:tensorflow:TPU system grpc://10.50.192.82:8470 has already been initialized. Reinitializing the TPU can cause previously created variables on TPU to be lost.\n"
          ],
          "name": "stdout"
        },
        {
          "output_type": "stream",
          "text": [
            "WARNING:tensorflow:TPU system grpc://10.50.192.82:8470 has already been initialized. Reinitializing the TPU can cause previously created variables on TPU to be lost.\n"
          ],
          "name": "stderr"
        },
        {
          "output_type": "stream",
          "text": [
            "INFO:tensorflow:Initializing the TPU system: grpc://10.50.192.82:8470\n"
          ],
          "name": "stdout"
        },
        {
          "output_type": "stream",
          "text": [
            "INFO:tensorflow:Initializing the TPU system: grpc://10.50.192.82:8470\n"
          ],
          "name": "stderr"
        },
        {
          "output_type": "stream",
          "text": [
            "INFO:tensorflow:Clearing out eager caches\n"
          ],
          "name": "stdout"
        },
        {
          "output_type": "stream",
          "text": [
            "INFO:tensorflow:Clearing out eager caches\n"
          ],
          "name": "stderr"
        },
        {
          "output_type": "stream",
          "text": [
            "INFO:tensorflow:Finished initializing TPU system.\n"
          ],
          "name": "stdout"
        },
        {
          "output_type": "stream",
          "text": [
            "INFO:tensorflow:Finished initializing TPU system.\n"
          ],
          "name": "stderr"
        },
        {
          "output_type": "stream",
          "text": [
            "INFO:tensorflow:Found TPU system:\n"
          ],
          "name": "stdout"
        },
        {
          "output_type": "stream",
          "text": [
            "INFO:tensorflow:Found TPU system:\n"
          ],
          "name": "stderr"
        },
        {
          "output_type": "stream",
          "text": [
            "INFO:tensorflow:*** Num TPU Cores: 8\n"
          ],
          "name": "stdout"
        },
        {
          "output_type": "stream",
          "text": [
            "INFO:tensorflow:*** Num TPU Cores: 8\n"
          ],
          "name": "stderr"
        },
        {
          "output_type": "stream",
          "text": [
            "INFO:tensorflow:*** Num TPU Workers: 1\n"
          ],
          "name": "stdout"
        },
        {
          "output_type": "stream",
          "text": [
            "INFO:tensorflow:*** Num TPU Workers: 1\n"
          ],
          "name": "stderr"
        },
        {
          "output_type": "stream",
          "text": [
            "INFO:tensorflow:*** Num TPU Cores Per Worker: 8\n"
          ],
          "name": "stdout"
        },
        {
          "output_type": "stream",
          "text": [
            "INFO:tensorflow:*** Num TPU Cores Per Worker: 8\n"
          ],
          "name": "stderr"
        },
        {
          "output_type": "stream",
          "text": [
            "INFO:tensorflow:*** Available Device: _DeviceAttributes(/job:localhost/replica:0/task:0/device:CPU:0, CPU, 0, 0)\n"
          ],
          "name": "stdout"
        },
        {
          "output_type": "stream",
          "text": [
            "INFO:tensorflow:*** Available Device: _DeviceAttributes(/job:localhost/replica:0/task:0/device:CPU:0, CPU, 0, 0)\n"
          ],
          "name": "stderr"
        },
        {
          "output_type": "stream",
          "text": [
            "INFO:tensorflow:*** Available Device: _DeviceAttributes(/job:localhost/replica:0/task:0/device:XLA_CPU:0, XLA_CPU, 0, 0)\n"
          ],
          "name": "stdout"
        },
        {
          "output_type": "stream",
          "text": [
            "INFO:tensorflow:*** Available Device: _DeviceAttributes(/job:localhost/replica:0/task:0/device:XLA_CPU:0, XLA_CPU, 0, 0)\n"
          ],
          "name": "stderr"
        },
        {
          "output_type": "stream",
          "text": [
            "INFO:tensorflow:*** Available Device: _DeviceAttributes(/job:worker/replica:0/task:0/device:CPU:0, CPU, 0, 0)\n"
          ],
          "name": "stdout"
        },
        {
          "output_type": "stream",
          "text": [
            "INFO:tensorflow:*** Available Device: _DeviceAttributes(/job:worker/replica:0/task:0/device:CPU:0, CPU, 0, 0)\n"
          ],
          "name": "stderr"
        },
        {
          "output_type": "stream",
          "text": [
            "INFO:tensorflow:*** Available Device: _DeviceAttributes(/job:worker/replica:0/task:0/device:TPU:0, TPU, 0, 0)\n"
          ],
          "name": "stdout"
        },
        {
          "output_type": "stream",
          "text": [
            "INFO:tensorflow:*** Available Device: _DeviceAttributes(/job:worker/replica:0/task:0/device:TPU:0, TPU, 0, 0)\n"
          ],
          "name": "stderr"
        },
        {
          "output_type": "stream",
          "text": [
            "INFO:tensorflow:*** Available Device: _DeviceAttributes(/job:worker/replica:0/task:0/device:TPU:1, TPU, 0, 0)\n"
          ],
          "name": "stdout"
        },
        {
          "output_type": "stream",
          "text": [
            "INFO:tensorflow:*** Available Device: _DeviceAttributes(/job:worker/replica:0/task:0/device:TPU:1, TPU, 0, 0)\n"
          ],
          "name": "stderr"
        },
        {
          "output_type": "stream",
          "text": [
            "INFO:tensorflow:*** Available Device: _DeviceAttributes(/job:worker/replica:0/task:0/device:TPU:2, TPU, 0, 0)\n"
          ],
          "name": "stdout"
        },
        {
          "output_type": "stream",
          "text": [
            "INFO:tensorflow:*** Available Device: _DeviceAttributes(/job:worker/replica:0/task:0/device:TPU:2, TPU, 0, 0)\n"
          ],
          "name": "stderr"
        },
        {
          "output_type": "stream",
          "text": [
            "INFO:tensorflow:*** Available Device: _DeviceAttributes(/job:worker/replica:0/task:0/device:TPU:3, TPU, 0, 0)\n"
          ],
          "name": "stdout"
        },
        {
          "output_type": "stream",
          "text": [
            "INFO:tensorflow:*** Available Device: _DeviceAttributes(/job:worker/replica:0/task:0/device:TPU:3, TPU, 0, 0)\n"
          ],
          "name": "stderr"
        },
        {
          "output_type": "stream",
          "text": [
            "INFO:tensorflow:*** Available Device: _DeviceAttributes(/job:worker/replica:0/task:0/device:TPU:4, TPU, 0, 0)\n"
          ],
          "name": "stdout"
        },
        {
          "output_type": "stream",
          "text": [
            "INFO:tensorflow:*** Available Device: _DeviceAttributes(/job:worker/replica:0/task:0/device:TPU:4, TPU, 0, 0)\n"
          ],
          "name": "stderr"
        },
        {
          "output_type": "stream",
          "text": [
            "INFO:tensorflow:*** Available Device: _DeviceAttributes(/job:worker/replica:0/task:0/device:TPU:5, TPU, 0, 0)\n"
          ],
          "name": "stdout"
        },
        {
          "output_type": "stream",
          "text": [
            "INFO:tensorflow:*** Available Device: _DeviceAttributes(/job:worker/replica:0/task:0/device:TPU:5, TPU, 0, 0)\n"
          ],
          "name": "stderr"
        },
        {
          "output_type": "stream",
          "text": [
            "INFO:tensorflow:*** Available Device: _DeviceAttributes(/job:worker/replica:0/task:0/device:TPU:6, TPU, 0, 0)\n"
          ],
          "name": "stdout"
        },
        {
          "output_type": "stream",
          "text": [
            "INFO:tensorflow:*** Available Device: _DeviceAttributes(/job:worker/replica:0/task:0/device:TPU:6, TPU, 0, 0)\n"
          ],
          "name": "stderr"
        },
        {
          "output_type": "stream",
          "text": [
            "INFO:tensorflow:*** Available Device: _DeviceAttributes(/job:worker/replica:0/task:0/device:TPU:7, TPU, 0, 0)\n"
          ],
          "name": "stdout"
        },
        {
          "output_type": "stream",
          "text": [
            "INFO:tensorflow:*** Available Device: _DeviceAttributes(/job:worker/replica:0/task:0/device:TPU:7, TPU, 0, 0)\n"
          ],
          "name": "stderr"
        },
        {
          "output_type": "stream",
          "text": [
            "INFO:tensorflow:*** Available Device: _DeviceAttributes(/job:worker/replica:0/task:0/device:TPU_SYSTEM:0, TPU_SYSTEM, 0, 0)\n"
          ],
          "name": "stdout"
        },
        {
          "output_type": "stream",
          "text": [
            "INFO:tensorflow:*** Available Device: _DeviceAttributes(/job:worker/replica:0/task:0/device:TPU_SYSTEM:0, TPU_SYSTEM, 0, 0)\n"
          ],
          "name": "stderr"
        },
        {
          "output_type": "stream",
          "text": [
            "INFO:tensorflow:*** Available Device: _DeviceAttributes(/job:worker/replica:0/task:0/device:XLA_CPU:0, XLA_CPU, 0, 0)\n"
          ],
          "name": "stdout"
        },
        {
          "output_type": "stream",
          "text": [
            "INFO:tensorflow:*** Available Device: _DeviceAttributes(/job:worker/replica:0/task:0/device:XLA_CPU:0, XLA_CPU, 0, 0)\n"
          ],
          "name": "stderr"
        }
      ]
    },
    {
      "cell_type": "markdown",
      "metadata": {
        "colab_type": "text",
        "id": "gBx1IeXtPASA"
      },
      "source": [
        "## 2D CNN Base"
      ]
    },
    {
      "cell_type": "code",
      "metadata": {
        "colab_type": "code",
        "id": "JN5PJRGiPASH",
        "colab": {}
      },
      "source": [
        "def build_cnn(optimizer, l2=None):\n",
        "    with strategy.scope():\n",
        "        model = Sequential()\n",
        "        model.add(Input(X.shape[1:]))\n",
        "        model.add(Conv2D(512, (5, 5), padding='same', kernel_regularizer=l2))\n",
        "        model.add(Activation('relu'))\n",
        "        model.add(Dropout(0.2))\n",
        "\n",
        "        model.add(Conv2D(512, (5, 5), padding='same', kernel_regularizer=l2))\n",
        "        model.add(Activation('relu'))\n",
        "        model.add(Dropout(0.2))\n",
        "        model.add(MaxPooling2D())\n",
        "\n",
        "        model.add(Conv2D(256, (5, 5), padding='same', kernel_regularizer=l2))\n",
        "        model.add(Activation('relu'))\n",
        "        model.add(Dropout(0.2))\n",
        "\n",
        "        model.add(Conv2D(256, (5, 5), padding='same', kernel_regularizer=l2))\n",
        "        model.add(Activation('relu'))\n",
        "        model.add(Dropout(0.2))\n",
        "        model.add(MaxPooling2D())\n",
        "\n",
        "        model.add(Conv2D(128, (5, 5), padding='same', kernel_regularizer=l2))\n",
        "        model.add(Activation('relu'))\n",
        "        model.add(Dropout(0.2))\n",
        "\n",
        "        model.add(Conv2D(128, (5, 5), padding='same', kernel_regularizer=l2))\n",
        "        model.add(Activation('relu'))\n",
        "        model.add(Dropout(0.2))\n",
        "        model.add(MaxPooling2D())\n",
        "\n",
        "        model.add(Flatten())\n",
        "        model.add(Dropout(0.5))\n",
        "        model.add(Dense(7))\n",
        "        model.add(Activation('softmax'))\n",
        "        \n",
        "        model.compile(loss='categorical_crossentropy',\n",
        "                    optimizer=optimizer,\n",
        "                    metrics=['accuracy'])\n",
        "        return model"
      ],
      "execution_count": 0,
      "outputs": []
    },
    {
      "cell_type": "code",
      "metadata": {
        "id": "tSt-ScEwst8g",
        "colab_type": "code",
        "outputId": "9721f75c-6d86-4c99-9c47-78286c867727",
        "colab": {
          "base_uri": "https://localhost:8080/",
          "height": 1000
        }
      },
      "source": [
        "optimizer = tf.keras.optimizers.Adam(lr=0.0001, beta_1=0.9, beta_2=0.999, epsilon=1e-7)\n",
        "cb = [callbacks.EarlyStopping(monitor='val_accuracy', patience=10)]\n",
        "\n",
        "cnn_base = build_cnn(optimizer)\n",
        "cnn_base_history = train(cnn_base, batch_size=128, epochs=70, cb=cb)\n",
        "tu.save_results(cnn_base, cnn_base_history, f'cnn-base')"
      ],
      "execution_count": 0,
      "outputs": [
        {
          "output_type": "stream",
          "text": [
            "Epoch 1/70\n",
            "12/12 [==============================] - 34s 3s/step - accuracy: 0.2253 - loss: 1.9009 - val_accuracy: 0.2161 - val_loss: 1.8317\n",
            "Epoch 2/70\n",
            "12/12 [==============================] - 6s 481ms/step - accuracy: 0.2318 - loss: 1.8819 - val_accuracy: 0.2161 - val_loss: 1.8073\n",
            "Epoch 3/70\n",
            "12/12 [==============================] - 6s 482ms/step - accuracy: 0.2448 - loss: 1.8428 - val_accuracy: 0.2524 - val_loss: 1.7702\n",
            "Epoch 4/70\n",
            "12/12 [==============================] - 6s 482ms/step - accuracy: 0.2832 - loss: 1.7799 - val_accuracy: 0.2792 - val_loss: 1.7080\n",
            "Epoch 5/70\n",
            "12/12 [==============================] - 6s 483ms/step - accuracy: 0.3079 - loss: 1.7150 - val_accuracy: 0.3728 - val_loss: 1.6698\n",
            "Epoch 6/70\n",
            "12/12 [==============================] - 6s 484ms/step - accuracy: 0.3477 - loss: 1.6321 - val_accuracy: 0.3862 - val_loss: 1.6278\n",
            "Epoch 7/70\n",
            "12/12 [==============================] - 9s 787ms/step - accuracy: 0.3997 - loss: 1.5529 - val_accuracy: 0.4359 - val_loss: 1.5704\n",
            "Epoch 8/70\n",
            "12/12 [==============================] - 6s 481ms/step - accuracy: 0.4089 - loss: 1.5155 - val_accuracy: 0.4417 - val_loss: 1.5319\n",
            "Epoch 9/70\n",
            "12/12 [==============================] - 6s 483ms/step - accuracy: 0.4525 - loss: 1.4337 - val_accuracy: 0.4512 - val_loss: 1.5459\n",
            "Epoch 10/70\n",
            "12/12 [==============================] - 6s 484ms/step - accuracy: 0.4896 - loss: 1.3656 - val_accuracy: 0.4895 - val_loss: 1.4355\n",
            "Epoch 11/70\n",
            "12/12 [==============================] - 6s 480ms/step - accuracy: 0.4993 - loss: 1.3329 - val_accuracy: 0.4742 - val_loss: 1.4357\n",
            "Epoch 12/70\n",
            "12/12 [==============================] - 6s 483ms/step - accuracy: 0.5312 - loss: 1.2503 - val_accuracy: 0.5048 - val_loss: 1.3683\n",
            "Epoch 13/70\n",
            "12/12 [==============================] - 6s 484ms/step - accuracy: 0.5742 - loss: 1.1507 - val_accuracy: 0.5373 - val_loss: 1.3137\n",
            "Epoch 14/70\n",
            "12/12 [==============================] - 6s 481ms/step - accuracy: 0.6081 - loss: 1.0626 - val_accuracy: 0.5526 - val_loss: 1.2923\n",
            "Epoch 15/70\n",
            "12/12 [==============================] - 6s 487ms/step - accuracy: 0.6211 - loss: 1.0306 - val_accuracy: 0.5488 - val_loss: 1.2041\n",
            "Epoch 16/70\n",
            "12/12 [==============================] - 6s 489ms/step - accuracy: 0.6302 - loss: 0.9862 - val_accuracy: 0.5545 - val_loss: 1.1881\n",
            "Epoch 17/70\n",
            "12/12 [==============================] - 6s 483ms/step - accuracy: 0.6829 - loss: 0.8814 - val_accuracy: 0.5679 - val_loss: 1.1782\n",
            "Epoch 18/70\n",
            "12/12 [==============================] - 6s 481ms/step - accuracy: 0.6764 - loss: 0.8915 - val_accuracy: 0.6099 - val_loss: 1.1617\n",
            "Epoch 19/70\n",
            "12/12 [==============================] - 6s 483ms/step - accuracy: 0.7031 - loss: 0.8034 - val_accuracy: 0.6291 - val_loss: 1.0957\n",
            "Epoch 20/70\n",
            "12/12 [==============================] - 6s 484ms/step - accuracy: 0.7454 - loss: 0.7080 - val_accuracy: 0.6272 - val_loss: 1.0631\n",
            "Epoch 21/70\n",
            "12/12 [==============================] - 6s 488ms/step - accuracy: 0.7591 - loss: 0.6644 - val_accuracy: 0.6119 - val_loss: 1.0492\n",
            "Epoch 22/70\n",
            "12/12 [==============================] - 6s 481ms/step - accuracy: 0.7865 - loss: 0.6108 - val_accuracy: 0.6310 - val_loss: 1.0228\n",
            "Epoch 23/70\n",
            "12/12 [==============================] - 6s 480ms/step - accuracy: 0.7956 - loss: 0.5654 - val_accuracy: 0.6195 - val_loss: 1.0253\n",
            "Epoch 24/70\n",
            "12/12 [==============================] - 6s 482ms/step - accuracy: 0.8092 - loss: 0.5526 - val_accuracy: 0.6119 - val_loss: 1.0298\n",
            "Epoch 25/70\n",
            "12/12 [==============================] - 6s 482ms/step - accuracy: 0.8190 - loss: 0.4966 - val_accuracy: 0.6367 - val_loss: 0.9782\n",
            "Epoch 26/70\n",
            "12/12 [==============================] - 6s 484ms/step - accuracy: 0.8275 - loss: 0.4611 - val_accuracy: 0.6539 - val_loss: 0.9644\n",
            "Epoch 27/70\n",
            "12/12 [==============================] - 6s 482ms/step - accuracy: 0.8529 - loss: 0.4068 - val_accuracy: 0.6692 - val_loss: 0.9624\n",
            "Epoch 28/70\n",
            "12/12 [==============================] - 6s 482ms/step - accuracy: 0.8730 - loss: 0.3620 - val_accuracy: 0.6520 - val_loss: 0.9392\n",
            "Epoch 29/70\n",
            "12/12 [==============================] - 6s 484ms/step - accuracy: 0.8757 - loss: 0.3600 - val_accuracy: 0.6750 - val_loss: 0.9239\n",
            "Epoch 30/70\n",
            "12/12 [==============================] - 6s 481ms/step - accuracy: 0.8880 - loss: 0.3372 - val_accuracy: 0.6558 - val_loss: 0.9341\n",
            "Epoch 31/70\n",
            "12/12 [==============================] - 6s 487ms/step - accuracy: 0.8887 - loss: 0.3122 - val_accuracy: 0.6501 - val_loss: 0.9134\n",
            "Epoch 32/70\n",
            "12/12 [==============================] - 6s 486ms/step - accuracy: 0.9186 - loss: 0.2451 - val_accuracy: 0.6711 - val_loss: 0.9024\n",
            "Epoch 33/70\n",
            "12/12 [==============================] - 6s 480ms/step - accuracy: 0.9102 - loss: 0.2827 - val_accuracy: 0.6654 - val_loss: 0.9160\n",
            "Epoch 34/70\n",
            "12/12 [==============================] - 6s 480ms/step - accuracy: 0.9160 - loss: 0.2290 - val_accuracy: 0.6635 - val_loss: 0.8998\n",
            "Epoch 35/70\n",
            "12/12 [==============================] - 6s 484ms/step - accuracy: 0.9160 - loss: 0.2152 - val_accuracy: 0.6539 - val_loss: 0.9205\n",
            "Epoch 36/70\n",
            "12/12 [==============================] - 6s 480ms/step - accuracy: 0.9160 - loss: 0.2195 - val_accuracy: 0.6807 - val_loss: 0.9144\n",
            "Epoch 37/70\n",
            "12/12 [==============================] - 6s 484ms/step - accuracy: 0.9251 - loss: 0.2067 - val_accuracy: 0.6902 - val_loss: 0.8811\n",
            "Epoch 38/70\n",
            "12/12 [==============================] - 6s 481ms/step - accuracy: 0.9297 - loss: 0.1984 - val_accuracy: 0.6597 - val_loss: 0.9147\n",
            "Epoch 39/70\n",
            "12/12 [==============================] - 6s 482ms/step - accuracy: 0.9336 - loss: 0.1895 - val_accuracy: 0.6845 - val_loss: 0.9180\n",
            "Epoch 40/70\n",
            "12/12 [==============================] - 6s 488ms/step - accuracy: 0.9427 - loss: 0.1572 - val_accuracy: 0.6329 - val_loss: 0.9415\n",
            "Epoch 41/70\n",
            "12/12 [==============================] - 6s 485ms/step - accuracy: 0.9440 - loss: 0.1564 - val_accuracy: 0.6539 - val_loss: 0.9472\n",
            "Epoch 42/70\n",
            "12/12 [==============================] - 6s 484ms/step - accuracy: 0.9570 - loss: 0.1171 - val_accuracy: 0.6730 - val_loss: 0.9069\n",
            "Epoch 43/70\n",
            "12/12 [==============================] - 6s 485ms/step - accuracy: 0.9466 - loss: 0.1487 - val_accuracy: 0.6482 - val_loss: 0.9398\n",
            "Epoch 44/70\n",
            "12/12 [==============================] - 6s 485ms/step - accuracy: 0.9564 - loss: 0.1160 - val_accuracy: 0.6730 - val_loss: 0.9863\n",
            "Epoch 45/70\n",
            "12/12 [==============================] - 6s 483ms/step - accuracy: 0.9642 - loss: 0.1018 - val_accuracy: 0.6597 - val_loss: 0.9538\n",
            "Epoch 46/70\n",
            "12/12 [==============================] - 6s 481ms/step - accuracy: 0.9583 - loss: 0.1211 - val_accuracy: 0.6807 - val_loss: 0.9642\n",
            "Epoch 47/70\n",
            "12/12 [==============================] - 6s 481ms/step - accuracy: 0.9564 - loss: 0.1270 - val_accuracy: 0.6864 - val_loss: 0.8970\n",
            "Model is saved to /content/emotenn/trained_models/cnn-base.h5\n",
            "Train history is saved to /content/emotenn/trained_models/cnn-base_history.pkl\n"
          ],
          "name": "stdout"
        }
      ]
    },
    {
      "cell_type": "code",
      "metadata": {
        "colab_type": "code",
        "id": "2Pa7Vd2jPASJ",
        "outputId": "a0836d6a-e665-48a0-e631-623dcae0237c",
        "colab": {
          "base_uri": "https://localhost:8080/",
          "height": 1000
        }
      },
      "source": [
        "display_results(cnn_base, cnn_base_history)"
      ],
      "execution_count": 0,
      "outputs": [
        {
          "output_type": "stream",
          "text": [
            "48/48 [==============================] - 2s 36ms/step - accuracy: 1.0000 - loss: 0.0612\n",
            "Train dataset accuracy: 100.00%\n",
            "17/17 [==============================] - 1s 37ms/step - accuracy: 0.6864 - loss: 0.8828\n",
            "Validation dataset accuracy: 68.64%\n",
            "13/13 [==============================] - 0s 35ms/step - accuracy: 0.6590 - loss: 0.9480\n",
            "Test dataset accuracy: 65.90%\n"
          ],
          "name": "stdout"
        },
        {
          "output_type": "display_data",
          "data": {
            "image/png": "[encoded data removed]",
            "text/plain": [
              "<Figure size 432x288 with 1 Axes>"
            ]
          },
          "metadata": {
            "tags": [],
            "needs_background": "light"
          }
        },
        {
          "output_type": "display_data",
          "data": {
            "image/png": "[encoded data removed]",
            "text/plain": [
              "<Figure size 432x288 with 1 Axes>"
            ]
          },
          "metadata": {
            "tags": [],
            "needs_background": "light"
          }
        },
        {
          "output_type": "display_data",
          "data": {
            "image/png": "[encoded data removed]",
            "text/plain": [
              "<Figure size 720x576 with 2 Axes>"
            ]
          },
          "metadata": {
            "tags": [],
            "needs_background": "light"
          }
        }
      ]
    }
  ]
}